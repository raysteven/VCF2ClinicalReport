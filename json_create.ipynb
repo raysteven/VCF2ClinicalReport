{
  "cells": [
    {
      "cell_type": "code",
      "execution_count": 8,
      "metadata": {},
      "outputs": [],
      "source": [
        "workdir = '/path/to/workdir'\n",
        "report_excel = 'result_to_report_demo.xlsx'\n",
        "\n",
        "import sys\n",
        "sys.path.insert(0, workdir)"
      ]
    },
    {
      "cell_type": "code",
      "execution_count": 9,
      "metadata": {},
      "outputs": [],
      "source": [
        "import os\n",
        "excel_path = os.path.join(workdir,report_excel)"
      ]
    },
    {
      "cell_type": "code",
      "execution_count": 35,
      "metadata": {
        "colab": {
          "base_uri": "https://localhost:8080/"
        },
        "id": "gEfWrxaGkfcU",
        "outputId": "339835b5-d532-4ec4-9ddf-ee544d54873f"
      },
      "outputs": [],
      "source": [
        "import pandas as pd\n",
        "import json\n",
        "from collections import defaultdict\n",
        "\n",
        "# Load the dataset from the Excel file\n",
        "#df = pd.read_excel(\"/path/to/your/excel/file.xlsx\")\n",
        "df = pd.read_excel(excel_path)\n",
        "\n",
        "# Create a structure to hold the revised JSON data\n",
        "json_structure_revised = defaultdict(list)\n",
        "\n",
        "# Iterate through the dataframe to populate the revised structure\n",
        "for _, row in df.iterrows():\n",
        "    condition_name = row['Condition Name']\n",
        "\n",
        "    # Checking length of Reference Allele\n",
        "    alternate_allele = row['Alternate Allele']\n",
        "    breaks_after_n = 5\n",
        "    if len(alternate_allele) > breaks_after_n:  # Adjust the threshold as needed\n",
        "        alternate_allele = '\\n'.join([alternate_allele[i:i+breaks_after_n] for i in range(0, len(alternate_allele), breaks_after_n)])\n",
        "\n",
        "\n",
        "    result_details = {\n",
        "        \"Chromosome\": row['Chromosome'],\n",
        "        \"Position\": row['Position'],\n",
        "        \"Reference Allele\": row['Reference Allele'],\n",
        "        \"Alternate Allele\": alternate_allele,\n",
        "        \"Variant Quality\": str(row['Variant Quality']).replace(\" \", \"\\n\"),\n",
        "        \"Filter Status\": row['Filter Status'].replace(\" \", \"\\n\"),\n",
        "        \"ACMG Classification\": row['ACMG Classification'].replace(\" \",\"\\n\").replace(\",\",\" \"),\n",
        "        \"ClinVar Significance\": row['ClinVar Significance'].strip().replace(\" \", \"\\n\").replace(\" Conflicting_interpretations_of_pathogenicity \",\"Conflicting\").replace(\"Conflicting_interpretations_of_pathogenicity\",\"Conflicting\").replace(\"/\",\"\\nor\\n\").replace(\"_\",\" \"),\n",
        "        \"Consequence\": row['Consequence'].replace(\"nonsynonymous SNV\", \"non\\nsynonymous\\nSNV\").replace(\" \",\"\\n\"),\n",
        "        \"Inheritance Pattern\": row['Inheritance Pattern'].replace(\"<br>or&nbsp;\",\",\\n\").replace(\"Not applicable\",\"\"), #\n",
        "        \"Age of Onset\": row['Age of Onset'].replace(\"<br>\", \",\\n\"),\n",
        "        \"Prevalence\": row['Prevalence'].replace(\"1 000 000\",\"1.000.000\"),\n",
        "        \"gnomAD AF\": row['gnomAD AF'],\n",
        "        \"1000g AF\": row['1000g AF']\n",
        "    }\n",
        "    \n",
        "    json_structure_revised[condition_name].append(result_details)\n",
        "\n",
        "# Convert the defaultdict to a regular dict for JSON serialization\n",
        "final_json_revised = {\"condition\": dict(json_structure_revised)}\n",
        "\n",
        "# Define the output file path for the JSON data\n",
        "output_file_path = os.path.join(workdir,'report_demo.json')\n",
        "\n",
        "# Save the revised JSON data to a file\n",
        "with open(output_file_path, 'w') as file:\n",
        "    json.dump(final_json_revised, file, ensure_ascii=False, indent=4)\n",
        "    "
      ]
    }
  ],
  "metadata": {
    "colab": {
      "provenance": []
    },
    "kernelspec": {
      "display_name": "Python 3 (ipykernel)",
      "language": "python",
      "name": "python3"
    },
    "language_info": {
      "codemirror_mode": {
        "name": "ipython",
        "version": 3
      },
      "file_extension": ".py",
      "mimetype": "text/x-python",
      "name": "python",
      "nbconvert_exporter": "python",
      "pygments_lexer": "ipython3",
      "version": "3.11.8"
    }
  },
  "nbformat": 4,
  "nbformat_minor": 0
}
